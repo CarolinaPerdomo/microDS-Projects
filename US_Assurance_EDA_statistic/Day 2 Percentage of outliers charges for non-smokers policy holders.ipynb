{
 "cells": [
  {
   "cell_type": "markdown",
   "id": "d72c4415",
   "metadata": {},
   "source": [
    "# Practice toy project in the second day of 100 days code challenge"
   ]
  },
  {
   "cell_type": "code",
   "execution_count": 1,
   "id": "6963e8e1",
   "metadata": {},
   "outputs": [],
   "source": [
    "# Context: I want to keep doing a bit more of EDA in the data set from yesterday.\n",
    "# Task: Put into practice some suggestions from yesterday (either do bivariate analysis, construct the correlation matrix and/or remove the outliers)."
   ]
  },
  {
   "cell_type": "markdown",
   "id": "4524b67c",
   "metadata": {},
   "source": [
    "## Action:"
   ]
  },
  {
   "cell_type": "code",
   "execution_count": 1,
   "id": "e794b367",
   "metadata": {},
   "outputs": [],
   "source": [
    "# Import libraries.\n",
    "\n",
    "import pandas as pd # Provides data structures and operations for manipulating numeric arrays.\n",
    "import numpy as np # Intended to manipulate matrices or multidimensional arrays.\n",
    "import seaborn as sns # Python data visualization library based on matplotlib.\n",
    "import plotly.express as px # It contains functions that can create entire figures at once.\n",
    "\n",
    "from matplotlib.cbook import boxplot_stats # Return a list of dictionaries of statistics used to draw a series of box.\n",
    "import statsmodels.api as sm # It provides classes and functions for the estimation of many different statistical models.\n",
    "from sklearn.model_selection import train_test_split,GridSearchCV, cross_val_score, cross_val_predict\n",
    "# train_test_split splits arrays or matrices into random train and test subsets.\n",
    "# GridSearchCV searchs over specified parameter values for an estimator. The parameters of the estimator used to apply these methods are optimized by cross-validated grid-search over a parameter grid.\n",
    "# cross_val_score evaluates a score by cross-validation.\n",
    "# cross_val_predict: The data is split according to the cv parameter. Each sample belongs to exactly one test set, and its prediction is computed with an estimator fitted on the corresponding training set.\n",
    "from statsmodels.stats.outliers_influence import variance_inflation_factor # Ratio of the variance of estimating some parameter in a model that includes multiple other terms by the variance of a model constructed using only one term."
   ]
  },
  {
   "cell_type": "code",
   "execution_count": 2,
   "id": "d68693e3",
   "metadata": {},
   "outputs": [],
   "source": [
    "# I will now store the data in the pandas framework.\n",
    "\n",
    "data_frame_day2 = pd.read_csv('insurance.csv')"
   ]
  },
  {
   "cell_type": "code",
   "execution_count": 3,
   "id": "3c2a647e",
   "metadata": {},
   "outputs": [
    {
     "name": "stdout",
     "output_type": "stream",
     "text": [
      "      age     sex     bmi  children smoker     region      charges\n",
      "0      19  female  27.900         0    yes  southwest  16884.92400\n",
      "1      18    male  33.770         1     no  southeast   1725.55230\n",
      "2      28    male  33.000         3     no  southeast   4449.46200\n",
      "3      33    male  22.705         0     no  northwest  21984.47061\n",
      "4      32    male  28.880         0     no  northwest   3866.85520\n",
      "...   ...     ...     ...       ...    ...        ...          ...\n",
      "1333   50    male  30.970         3     no  northwest  10600.54830\n",
      "1334   18  female  31.920         0     no  northeast   2205.98080\n",
      "1335   18  female  36.850         0     no  southeast   1629.83350\n",
      "1336   21  female  25.800         0     no  southwest   2007.94500\n",
      "1337   61  female  29.070         0    yes  northwest  29141.36030\n",
      "\n",
      "[1338 rows x 7 columns]\n"
     ]
    }
   ],
   "source": [
    "# To see the first and last 5 rows:\n",
    "\n",
    "print(data_frame_day2)"
   ]
  },
  {
   "cell_type": "code",
   "execution_count": 4,
   "id": "33898bcc",
   "metadata": {},
   "outputs": [
    {
     "name": "stdout",
     "output_type": "stream",
     "text": [
      "<class 'pandas.core.frame.DataFrame'>\n",
      "RangeIndex: 1338 entries, 0 to 1337\n",
      "Data columns (total 7 columns):\n",
      " #   Column    Non-Null Count  Dtype  \n",
      "---  ------    --------------  -----  \n",
      " 0   age       1338 non-null   int64  \n",
      " 1   sex       1338 non-null   object \n",
      " 2   bmi       1338 non-null   float64\n",
      " 3   children  1338 non-null   int64  \n",
      " 4   smoker    1338 non-null   object \n",
      " 5   region    1338 non-null   object \n",
      " 6   charges   1338 non-null   float64\n",
      "dtypes: float64(2), int64(2), object(3)\n",
      "memory usage: 73.3+ KB\n"
     ]
    }
   ],
   "source": [
    "# Let's understand now the data type:\n",
    "\n",
    "data_frame_day2.info()"
   ]
  },
  {
   "cell_type": "code",
   "execution_count": null,
   "id": "685ca0f9",
   "metadata": {},
   "outputs": [],
   "source": [
    "### Notice we don't have null values."
   ]
  },
  {
   "cell_type": "code",
   "execution_count": 5,
   "id": "463bb57c",
   "metadata": {},
   "outputs": [],
   "source": [
    "# We have clean dataset. Therefore, we will proceed with further exploration:\n",
    "# Let's group the variables into numerical and categorical variables.\n",
    "\n",
    "numeric_features = data_frame_day2[[\"age\",\"bmi\",\"children\",\"charges\"]]\n",
    "\n",
    "categorical_features = data_frame_day2[[\"sex\",\"smoker\",\"region\"]]"
   ]
  },
  {
   "cell_type": "code",
   "execution_count": 6,
   "id": "71fbd4b7",
   "metadata": {},
   "outputs": [
    {
     "data": {
      "text/html": [
       "<div>\n",
       "<style scoped>\n",
       "    .dataframe tbody tr th:only-of-type {\n",
       "        vertical-align: middle;\n",
       "    }\n",
       "\n",
       "    .dataframe tbody tr th {\n",
       "        vertical-align: top;\n",
       "    }\n",
       "\n",
       "    .dataframe thead th {\n",
       "        text-align: right;\n",
       "    }\n",
       "</style>\n",
       "<table border=\"1\" class=\"dataframe\">\n",
       "  <thead>\n",
       "    <tr style=\"text-align: right;\">\n",
       "      <th></th>\n",
       "      <th>age</th>\n",
       "      <th>bmi</th>\n",
       "      <th>children</th>\n",
       "      <th>charges</th>\n",
       "    </tr>\n",
       "  </thead>\n",
       "  <tbody>\n",
       "    <tr>\n",
       "      <th>count</th>\n",
       "      <td>1338.000000</td>\n",
       "      <td>1338.000000</td>\n",
       "      <td>1338.000000</td>\n",
       "      <td>1338.000000</td>\n",
       "    </tr>\n",
       "    <tr>\n",
       "      <th>mean</th>\n",
       "      <td>39.207025</td>\n",
       "      <td>30.663397</td>\n",
       "      <td>1.094918</td>\n",
       "      <td>13270.422265</td>\n",
       "    </tr>\n",
       "    <tr>\n",
       "      <th>std</th>\n",
       "      <td>14.049960</td>\n",
       "      <td>6.098187</td>\n",
       "      <td>1.205493</td>\n",
       "      <td>12110.011237</td>\n",
       "    </tr>\n",
       "    <tr>\n",
       "      <th>min</th>\n",
       "      <td>18.000000</td>\n",
       "      <td>15.960000</td>\n",
       "      <td>0.000000</td>\n",
       "      <td>1121.873900</td>\n",
       "    </tr>\n",
       "    <tr>\n",
       "      <th>25%</th>\n",
       "      <td>27.000000</td>\n",
       "      <td>26.296250</td>\n",
       "      <td>0.000000</td>\n",
       "      <td>4740.287150</td>\n",
       "    </tr>\n",
       "    <tr>\n",
       "      <th>50%</th>\n",
       "      <td>39.000000</td>\n",
       "      <td>30.400000</td>\n",
       "      <td>1.000000</td>\n",
       "      <td>9382.033000</td>\n",
       "    </tr>\n",
       "    <tr>\n",
       "      <th>75%</th>\n",
       "      <td>51.000000</td>\n",
       "      <td>34.693750</td>\n",
       "      <td>2.000000</td>\n",
       "      <td>16639.912515</td>\n",
       "    </tr>\n",
       "    <tr>\n",
       "      <th>max</th>\n",
       "      <td>64.000000</td>\n",
       "      <td>53.130000</td>\n",
       "      <td>5.000000</td>\n",
       "      <td>63770.428010</td>\n",
       "    </tr>\n",
       "  </tbody>\n",
       "</table>\n",
       "</div>"
      ],
      "text/plain": [
       "               age          bmi     children       charges\n",
       "count  1338.000000  1338.000000  1338.000000   1338.000000\n",
       "mean     39.207025    30.663397     1.094918  13270.422265\n",
       "std      14.049960     6.098187     1.205493  12110.011237\n",
       "min      18.000000    15.960000     0.000000   1121.873900\n",
       "25%      27.000000    26.296250     0.000000   4740.287150\n",
       "50%      39.000000    30.400000     1.000000   9382.033000\n",
       "75%      51.000000    34.693750     2.000000  16639.912515\n",
       "max      64.000000    53.130000     5.000000  63770.428010"
      ]
     },
     "execution_count": 6,
     "metadata": {},
     "output_type": "execute_result"
    }
   ],
   "source": [
    "# A bit more of exploration different from yesterday:\n",
    "\n",
    "data_frame_day2.describe() # Descriptive statistics include those that summarize the central tendency, dispersion and shape of a dataset’s distribution, excluding NaN values."
   ]
  },
  {
   "cell_type": "code",
   "execution_count": null,
   "id": "a8459e3e",
   "metadata": {},
   "outputs": [],
   "source": [
    "# Notice it does it only with the numeric variables. We can see:\n",
    "\n",
    "### Count number of non-null observations.\n",
    "### Mean of the values.\n",
    "### Standard deviation.\n",
    "### Maximum and minimum of the values.\n",
    "### Lower (25%), 50 (same as the median) and upper (75%) percentiles."
   ]
  },
  {
   "cell_type": "code",
   "execution_count": 7,
   "id": "ee003faa",
   "metadata": {},
   "outputs": [
    {
     "data": {
      "image/png": "[encoded data removed]",
      "text/plain": [
       "<Figure size 640x480 with 1 Axes>"
      ]
     },
     "metadata": {},
     "output_type": "display_data"
    }
   ],
   "source": [
    "# Let's keep working the outliers of yesterday:\n",
    "\n",
    "sns.set_palette('pastel') # 'Cuz cute.\n",
    "\n",
    "box_smoker_charges = sns.boxplot(x='smoker',y='charges',data=data_frame_day2)"
   ]
  },
  {
   "cell_type": "code",
   "execution_count": 8,
   "id": "187e8933",
   "metadata": {},
   "outputs": [
    {
     "data": {
      "text/html": [
       "<div>\n",
       "<style scoped>\n",
       "    .dataframe tbody tr th:only-of-type {\n",
       "        vertical-align: middle;\n",
       "    }\n",
       "\n",
       "    .dataframe tbody tr th {\n",
       "        vertical-align: top;\n",
       "    }\n",
       "\n",
       "    .dataframe thead th {\n",
       "        text-align: right;\n",
       "    }\n",
       "</style>\n",
       "<table border=\"1\" class=\"dataframe\">\n",
       "  <thead>\n",
       "    <tr style=\"text-align: right;\">\n",
       "      <th></th>\n",
       "      <th>age</th>\n",
       "      <th>sex</th>\n",
       "      <th>bmi</th>\n",
       "      <th>children</th>\n",
       "      <th>smoker</th>\n",
       "      <th>region</th>\n",
       "      <th>charges</th>\n",
       "    </tr>\n",
       "  </thead>\n",
       "  <tbody>\n",
       "    <tr>\n",
       "      <th>1</th>\n",
       "      <td>18</td>\n",
       "      <td>male</td>\n",
       "      <td>33.770</td>\n",
       "      <td>1</td>\n",
       "      <td>no</td>\n",
       "      <td>southeast</td>\n",
       "      <td>1725.55230</td>\n",
       "    </tr>\n",
       "    <tr>\n",
       "      <th>2</th>\n",
       "      <td>28</td>\n",
       "      <td>male</td>\n",
       "      <td>33.000</td>\n",
       "      <td>3</td>\n",
       "      <td>no</td>\n",
       "      <td>southeast</td>\n",
       "      <td>4449.46200</td>\n",
       "    </tr>\n",
       "    <tr>\n",
       "      <th>3</th>\n",
       "      <td>33</td>\n",
       "      <td>male</td>\n",
       "      <td>22.705</td>\n",
       "      <td>0</td>\n",
       "      <td>no</td>\n",
       "      <td>northwest</td>\n",
       "      <td>21984.47061</td>\n",
       "    </tr>\n",
       "    <tr>\n",
       "      <th>4</th>\n",
       "      <td>32</td>\n",
       "      <td>male</td>\n",
       "      <td>28.880</td>\n",
       "      <td>0</td>\n",
       "      <td>no</td>\n",
       "      <td>northwest</td>\n",
       "      <td>3866.85520</td>\n",
       "    </tr>\n",
       "    <tr>\n",
       "      <th>5</th>\n",
       "      <td>31</td>\n",
       "      <td>female</td>\n",
       "      <td>25.740</td>\n",
       "      <td>0</td>\n",
       "      <td>no</td>\n",
       "      <td>southeast</td>\n",
       "      <td>3756.62160</td>\n",
       "    </tr>\n",
       "    <tr>\n",
       "      <th>...</th>\n",
       "      <td>...</td>\n",
       "      <td>...</td>\n",
       "      <td>...</td>\n",
       "      <td>...</td>\n",
       "      <td>...</td>\n",
       "      <td>...</td>\n",
       "      <td>...</td>\n",
       "    </tr>\n",
       "    <tr>\n",
       "      <th>1332</th>\n",
       "      <td>52</td>\n",
       "      <td>female</td>\n",
       "      <td>44.700</td>\n",
       "      <td>3</td>\n",
       "      <td>no</td>\n",
       "      <td>southwest</td>\n",
       "      <td>11411.68500</td>\n",
       "    </tr>\n",
       "    <tr>\n",
       "      <th>1333</th>\n",
       "      <td>50</td>\n",
       "      <td>male</td>\n",
       "      <td>30.970</td>\n",
       "      <td>3</td>\n",
       "      <td>no</td>\n",
       "      <td>northwest</td>\n",
       "      <td>10600.54830</td>\n",
       "    </tr>\n",
       "    <tr>\n",
       "      <th>1334</th>\n",
       "      <td>18</td>\n",
       "      <td>female</td>\n",
       "      <td>31.920</td>\n",
       "      <td>0</td>\n",
       "      <td>no</td>\n",
       "      <td>northeast</td>\n",
       "      <td>2205.98080</td>\n",
       "    </tr>\n",
       "    <tr>\n",
       "      <th>1335</th>\n",
       "      <td>18</td>\n",
       "      <td>female</td>\n",
       "      <td>36.850</td>\n",
       "      <td>0</td>\n",
       "      <td>no</td>\n",
       "      <td>southeast</td>\n",
       "      <td>1629.83350</td>\n",
       "    </tr>\n",
       "    <tr>\n",
       "      <th>1336</th>\n",
       "      <td>21</td>\n",
       "      <td>female</td>\n",
       "      <td>25.800</td>\n",
       "      <td>0</td>\n",
       "      <td>no</td>\n",
       "      <td>southwest</td>\n",
       "      <td>2007.94500</td>\n",
       "    </tr>\n",
       "  </tbody>\n",
       "</table>\n",
       "<p>1064 rows × 7 columns</p>\n",
       "</div>"
      ],
      "text/plain": [
       "      age     sex     bmi  children smoker     region      charges\n",
       "1      18    male  33.770         1     no  southeast   1725.55230\n",
       "2      28    male  33.000         3     no  southeast   4449.46200\n",
       "3      33    male  22.705         0     no  northwest  21984.47061\n",
       "4      32    male  28.880         0     no  northwest   3866.85520\n",
       "5      31  female  25.740         0     no  southeast   3756.62160\n",
       "...   ...     ...     ...       ...    ...        ...          ...\n",
       "1332   52  female  44.700         3     no  southwest  11411.68500\n",
       "1333   50    male  30.970         3     no  northwest  10600.54830\n",
       "1334   18  female  31.920         0     no  northeast   2205.98080\n",
       "1335   18  female  36.850         0     no  southeast   1629.83350\n",
       "1336   21  female  25.800         0     no  southwest   2007.94500\n",
       "\n",
       "[1064 rows x 7 columns]"
      ]
     },
     "execution_count": 8,
     "metadata": {},
     "output_type": "execute_result"
    }
   ],
   "source": [
    "# I want to work just with the outliers of the 'no', I don't know exactly how to get thenm \"separated\" from the group, but I will create a different dataset for just keep practicing with the outliers:\n",
    "#(***?)\n",
    "\n",
    "data_frame_day2.copy().loc[data_frame_day2.copy()['smoker'] == 'no'] # loc[] access a group of rows and columns by label(s)"
   ]
  },
  {
   "cell_type": "code",
   "execution_count": 10,
   "id": "622a0547",
   "metadata": {},
   "outputs": [],
   "source": [
    "data_for_no_smoker_charges_box = pd.DataFrame([]) # New dataframe"
   ]
  },
  {
   "cell_type": "code",
   "execution_count": 11,
   "id": "b50ffa6e",
   "metadata": {},
   "outputs": [
    {
     "name": "stderr",
     "output_type": "stream",
     "text": [
      "C:\\Users\\dafda\\AppData\\Local\\Temp\\ipykernel_14412\\521672708.py:2: FutureWarning: The frame.append method is deprecated and will be removed from pandas in a future version. Use pandas.concat instead.\n",
      "  data_for_no_smoker_charges_box = data_for_no_smoker_charges_box.append(no_smokers)\n"
     ]
    }
   ],
   "source": [
    "no_smokers = data_frame_day2.copy().loc[data_frame_day2.copy()['smoker'] == 'no']\n",
    "data_for_no_smoker_charges_box = data_for_no_smoker_charges_box.append(no_smokers) "
   ]
  },
  {
   "cell_type": "code",
   "execution_count": 12,
   "id": "f34bce1b",
   "metadata": {},
   "outputs": [
    {
     "data": {
      "image/png": "[encoded data removed]",
      "text/plain": [
       "<Figure size 640x480 with 1 Axes>"
      ]
     },
     "metadata": {},
     "output_type": "display_data"
    }
   ],
   "source": [
    "box_no_smoker_charges = sns.boxplot(y='smoker',x='charges',data=data_for_no_smoker_charges_box, color='sandybrown')"
   ]
  },
  {
   "cell_type": "code",
   "execution_count": 13,
   "id": "ecdd94ad",
   "metadata": {},
   "outputs": [
    {
     "name": "stdout",
     "output_type": "stream",
     "text": [
      "[28923.13692, 30166.61817, 30259.99556, 27322.73386, 27375.90478, 25081.76784, 24227.33724, 35160.13457, 24476.47851, 25992.82104, 24671.66334, 24603.04837, 27000.98473, 30284.64294, 23082.95533, 28287.89766, 23288.9284, 24513.09126, 27724.28875, 25656.57526, 24059.68019, 27346.04207, 31620.00106, 33471.97189, 24915.04626, 26392.26029, 26236.57997, 29186.48236, 27941.28758, 28476.73499, 26140.3603, 25333.33284, 32108.66282, 28468.91901, 26467.09737, 25517.11363, 28340.18885, 23241.47453, 36580.28216, 26018.95052, 22493.65964, 23045.56616, 27117.99378, 36910.60803, 23563.01618, 30063.58055]\n"
     ]
    }
   ],
   "source": [
    "# Print the outliers values in the new smoker_no column:\n",
    "outlier_list_non_smoker = boxplot_stats(data_for_no_smoker_charges_box.charges).pop(0)['fliers'].tolist()\n",
    "# pop(0) means it removes the element in the index that is first element of the list.\n",
    "# 'fliers' are points plotted individually-> they would be the same as outliers, no?\n",
    "print(outlier_list_non_smoker)"
   ]
  },
  {
   "cell_type": "code",
   "execution_count": 14,
   "id": "8abd9435",
   "metadata": {},
   "outputs": [
    {
     "data": {
      "text/plain": [
       "46"
      ]
     },
     "execution_count": 14,
     "metadata": {},
     "output_type": "execute_result"
    }
   ],
   "source": [
    "len(outlier_list_non_smoker) "
   ]
  },
  {
   "cell_type": "code",
   "execution_count": null,
   "id": "7c870ffa",
   "metadata": {},
   "outputs": [],
   "source": [
    "# Same number of outliers as yesterday (and at \"naked eye\" they are the same numbers)."
   ]
  },
  {
   "cell_type": "code",
   "execution_count": 18,
   "id": "2bdfa248",
   "metadata": {},
   "outputs": [
    {
     "name": "stdout",
     "output_type": "stream",
     "text": [
      "Number of charges rows contaning outliers from the no_smokers :  46\n",
      "Number of total no-smoker policy holders: 1064\n",
      "Percentage of outliers in charge column from the no_smokers :  4.323308270676692\n"
     ]
    }
   ],
   "source": [
    "# Print the number of rows containing outliers:\n",
    "outlier_rows_non_smoker = data_for_no_smoker_charges_box[data_for_no_smoker_charges_box.charges.isin(outlier_list_non_smoker)].shape[0]\n",
    "print(\"Number of charges rows contaning outliers from the no_smokers : \", outlier_rows_non_smoker)\n",
    "\n",
    "print(\"Number of total no-smoker policy holders:\", data_for_no_smoker_charges_box.shape[0])\n",
    "\n",
    "# Percentage of rows which are outliers:\n",
    "percent_outlier_non_smoker = (outlier_rows_non_smoker/data_for_no_smoker_charges_box.shape[0])*100\n",
    "print(\"Percentage of outliers in charge column from the no_smokers : \", percent_outlier_non_smoker)"
   ]
  },
  {
   "cell_type": "markdown",
   "id": "40f71c2a",
   "metadata": {},
   "source": [
    "## Results:"
   ]
  },
  {
   "cell_type": "code",
   "execution_count": null,
   "id": "80da9476",
   "metadata": {},
   "outputs": [],
   "source": [
    "# The outlier % is approx. 4%. \n",
    "# Is it negetible ? In theory, I would need to evaluate if it reflects the target population, research question, and/or research methodology. \n",
    "# In general, I will keep them. Why?:\n",
    "## As it is a large sample, I think outliers are expected to occur and they won't change the results.\n",
    "## But more important than that, it can be quite simple:\n",
    "## They may be non-smokers... but they could pay higher charges because they are older or they live in the south region, for example. Bivariate analysis could be useful to test this."
   ]
  },
  {
   "cell_type": "markdown",
   "id": "dcb8a791",
   "metadata": {},
   "source": [
    "## Sugestions and references:"
   ]
  },
  {
   "cell_type": "code",
   "execution_count": null,
   "id": "14709427",
   "metadata": {},
   "outputs": [],
   "source": [
    "# For tomorrow, I would like to construct (at least) a basic linear regression model."
   ]
  }
 ],
 "metadata": {
  "kernelspec": {
   "display_name": "Python 3 (ipykernel)",
   "language": "python",
   "name": "python3"
  },
  "language_info": {
   "codemirror_mode": {
    "name": "ipython",
    "version": 3
   },
   "file_extension": ".py",
   "mimetype": "text/x-python",
   "name": "python",
   "nbconvert_exporter": "python",
   "pygments_lexer": "ipython3",
   "version": "3.10.7"
  }
 },
 "nbformat": 4,
 "nbformat_minor": 5
}
